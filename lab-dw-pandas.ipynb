{
 "cells": [
  {
   "cell_type": "markdown",
   "id": "25d7736c-ba17-4aff-b6bb-66eba20fbf4e",
   "metadata": {},
   "source": [
    "# Lab | Pandas"
   ]
  },
  {
   "cell_type": "markdown",
   "id": "d1973e9e-8be6-4039-b70e-d73ee0d94c99",
   "metadata": {},
   "source": [
    "In this lab, we will be working with the customer data from an insurance company, which can be found in the CSV file located at the following link: https://raw.githubusercontent.com/data-bootcamp-v4/data/main/file1.csv\n",
    "\n",
    "The data includes information such as customer ID, state, gender, education, income, and other variables that can be used to perform various analyses.\n",
    "\n",
    "Throughout the lab, we will be using the pandas library in Python to manipulate and analyze the data. Pandas is a powerful library that provides various data manipulation and analysis tools, including the ability to load and manipulate data from a variety of sources, including CSV files."
   ]
  },
  {
   "cell_type": "markdown",
   "id": "8045146f-f4f7-44d9-8cd9-130d6400c73a",
   "metadata": {},
   "source": [
    "### Data Description\n",
    "\n",
    "- Customer - Customer ID\n",
    "\n",
    "- ST - State where customers live\n",
    "\n",
    "- Gender - Gender of the customer\n",
    "\n",
    "- Education - Background education of customers \n",
    "\n",
    "- Customer Lifetime Value - Customer lifetime value(CLV) is the total revenue the client will derive from their entire relationship with a customer. In other words, is the predicted or calculated value of a customer over their entire duration as a policyholder with the insurance company. It is an estimation of the net profit that the insurance company expects to generate from a customer throughout their relationship with the company. Customer Lifetime Value takes into account factors such as the duration of the customer's policy, premium payments, claim history, renewal likelihood, and potential additional services or products the customer may purchase. It helps insurers assess the long-term profitability and value associated with retaining a particular customer.\n",
    "\n",
    "- Income - Customers income\n",
    "\n",
    "- Monthly Premium Auto - Amount of money the customer pays on a monthly basis as a premium for their auto insurance coverage. It represents the recurring cost that the insured person must pay to maintain their insurance policy and receive coverage for potential damages, accidents, or other covered events related to their vehicle.\n",
    "\n",
    "- Number of Open Complaints - Number of complaints the customer opened\n",
    "\n",
    "- Policy Type - There are three type of policies in car insurance (Corporate Auto, Personal Auto, and Special Auto)\n",
    "\n",
    "- Vehicle Class - Type of vehicle classes that customers have Two-Door Car, Four-Door Car SUV, Luxury SUV, Sports Car, and Luxury Car\n",
    "\n",
    "- Total Claim Amount - the sum of all claims made by the customer. It represents the total monetary value of all approved claims for incidents such as accidents, theft, vandalism, or other covered events.\n"
   ]
  },
  {
   "cell_type": "markdown",
   "id": "3a72419b-20fc-4905-817a-8c83abc59de6",
   "metadata": {},
   "source": [
    "External Resources: https://towardsdatascience.com/filtering-data-frames-in-pandas-b570b1f834b9"
   ]
  },
  {
   "cell_type": "markdown",
   "id": "8f8ece17-e919-4e23-96c0-c7c59778436a",
   "metadata": {},
   "source": [
    "## Challenge 1: Understanding the data\n",
    "\n",
    "In this challenge, you will use pandas to explore a given dataset. Your task is to gain a deep understanding of the data by analyzing its characteristics, dimensions, and statistical properties."
   ]
  },
  {
   "cell_type": "markdown",
   "id": "91437bd5-59a6-49c0-8150-ef0e6e6eb253",
   "metadata": {},
   "source": [
    "- Identify the dimensions of the dataset by determining the number of rows and columns it contains.\n",
    "- Determine the data types of each column and evaluate whether they are appropriate for the nature of the variable. You should also provide suggestions for fixing any incorrect data types.\n",
    "- Identify the number of unique values for each column and determine which columns appear to be categorical. You should also describe the unique values of each categorical column and the range of values for numerical columns, and give your insights.\n",
    "- Compute summary statistics such as mean, median, mode, standard deviation, and quartiles to understand the central tendency and distribution of the data for numerical columns. You should also provide your conclusions based on these summary statistics.\n",
    "- Compute summary statistics for categorical columns and providing your conclusions based on these statistics."
   ]
  },
  {
   "cell_type": "code",
   "execution_count": 150,
   "id": "82780b8a-ee34-49f1-b80f-c3710733c27e",
   "metadata": {},
   "outputs": [],
   "source": [
    "import pandas as pd"
   ]
  },
  {
   "cell_type": "code",
   "execution_count": 151,
   "id": "72a541ed-b6ab-4692-a4b7-dac3332f88c6",
   "metadata": {},
   "outputs": [],
   "source": [
    "url = \"https://raw.githubusercontent.com/data-bootcamp-v4/data/main/file1.csv\"\n",
    "df = pd.read_csv(url)"
   ]
  },
  {
   "cell_type": "code",
   "execution_count": 152,
   "id": "dd4e8cd8-a6f6-486c-a5c4-1745b0c035f4",
   "metadata": {},
   "outputs": [
    {
     "name": "stdout",
     "output_type": "stream",
     "text": [
      "(4008, 11) \n",
      "\n",
      "The dataset has 4008 rows and 11 columns.\n"
     ]
    }
   ],
   "source": [
    "# Identify the dimensions of the dataset by determining the number of rows and columns it contains.\n",
    "\n",
    "print(df.shape, \"\\n\")\n",
    "print(f\"The dataset has {df.shape[0]} rows and {df.shape[1]} columns.\")"
   ]
  },
  {
   "cell_type": "code",
   "execution_count": 153,
   "id": "117e163a-782b-4200-999d-54d28c7d43f1",
   "metadata": {},
   "outputs": [
    {
     "data": {
      "text/plain": [
       "Customer                      object\n",
       "ST                            object\n",
       "GENDER                        object\n",
       "Education                     object\n",
       "Customer Lifetime Value       object\n",
       "Income                       float64\n",
       "Monthly Premium Auto         float64\n",
       "Number of Open Complaints     object\n",
       "Policy Type                   object\n",
       "Vehicle Class                 object\n",
       "Total Claim Amount           float64\n",
       "dtype: object"
      ]
     },
     "execution_count": 153,
     "metadata": {},
     "output_type": "execute_result"
    }
   ],
   "source": [
    "# Determine the data types of each column and evaluate whether they are appropriate for the nature of the variable.\n",
    "# Provide suggestions for fixing any incorrect data types.\n",
    "\n",
    "df.dtypes"
   ]
  },
  {
   "cell_type": "code",
   "execution_count": 154,
   "id": "f2ab3ad9-d481-4cbd-a6c2-9641bce404db",
   "metadata": {},
   "outputs": [
    {
     "data": {
      "text/plain": [
       "array(['1/0/00', '1/2/00', '1/1/00', '1/3/00', '1/5/00', '1/4/00', nan],\n",
       "      dtype=object)"
      ]
     },
     "execution_count": 154,
     "metadata": {},
     "output_type": "execute_result"
    }
   ],
   "source": [
    "df['Number of Open Complaints'].unique()"
   ]
  },
  {
   "cell_type": "code",
   "execution_count": 155,
   "id": "51c60257-d04c-4b1b-9f78-c6db3609c460",
   "metadata": {},
   "outputs": [],
   "source": [
    "# # Customer Lifetime Value and Number of Open Complaints: They are displayed as objects (text), but their names suggest they should be numeric.\n",
    "# Suggestions for fixing incorrect data types:\n",
    "\n",
    "# --- CUSTOMER LIFETIME VALUE ---\n",
    "df['Customer Lifetime Value'] = df['Customer Lifetime Value'].astype(str).str.replace('%', '')\n",
    "df['Customer Lifetime Value'] = pd.to_numeric(df['Customer Lifetime Value'], errors='coerce')\n",
    "\n",
    "# --- NUMBER OF OPEN COMPLAINTS ---\n",
    "df['Number of Open Complaints'] = df['Number of Open Complaints'].astype(str).str.split('/').str[1]\n",
    "df['Number of Open Complaints'] = pd.to_numeric(df['Number of Open Complaints'], errors='coerce')"
   ]
  },
  {
   "cell_type": "code",
   "execution_count": 156,
   "id": "b030dfff-d803-49c2-af08-d652cf0573c5",
   "metadata": {},
   "outputs": [
    {
     "name": "stdout",
     "output_type": "stream",
     "text": [
      "<class 'pandas.core.frame.DataFrame'>\n",
      "RangeIndex: 4008 entries, 0 to 4007\n",
      "Data columns (total 11 columns):\n",
      " #   Column                     Non-Null Count  Dtype  \n",
      "---  ------                     --------------  -----  \n",
      " 0   Customer                   1071 non-null   object \n",
      " 1   ST                         1071 non-null   object \n",
      " 2   GENDER                     954 non-null    object \n",
      " 3   Education                  1071 non-null   object \n",
      " 4   Customer Lifetime Value    1068 non-null   float64\n",
      " 5   Income                     1071 non-null   float64\n",
      " 6   Monthly Premium Auto       1071 non-null   float64\n",
      " 7   Number of Open Complaints  1071 non-null   float64\n",
      " 8   Policy Type                1071 non-null   object \n",
      " 9   Vehicle Class              1071 non-null   object \n",
      " 10  Total Claim Amount         1071 non-null   float64\n",
      "dtypes: float64(5), object(6)\n",
      "memory usage: 344.6+ KB\n",
      "None \n",
      "\n",
      "       Customer Lifetime Value        Income  Monthly Premium Auto  \\\n",
      "count             1.068000e+03   1071.000000           1071.000000   \n",
      "mean              7.936903e+05  39295.701214            193.234360   \n",
      "std               6.434784e+05  30469.427060           1601.190369   \n",
      "min               2.004351e+05      0.000000             61.000000   \n",
      "25%               4.034080e+05  14072.000000             68.000000   \n",
      "50%               5.881742e+05  36234.000000             83.000000   \n",
      "75%               8.962872e+05  64631.000000            109.500000   \n",
      "max               5.816655e+06  99960.000000          35354.000000   \n",
      "\n",
      "       Number of Open Complaints  Total Claim Amount  \n",
      "count                1071.000000         1071.000000  \n",
      "mean                    0.394024          404.986909  \n",
      "std                     0.883769          293.027260  \n",
      "min                     0.000000            0.382107  \n",
      "25%                     0.000000          202.157702  \n",
      "50%                     0.000000          354.729129  \n",
      "75%                     0.000000          532.800000  \n",
      "max                     5.000000         2893.239678  \n",
      "\n",
      "Unique values of: 'ST':\n",
      "['Washington' 'Arizona' 'Nevada' 'California' 'Oregon' 'Cali' 'AZ' 'WA'\n",
      " nan]\n",
      "\n",
      "Unique values of: 'GENDER':\n",
      "[nan 'F' 'M' 'Femal' 'Male' 'female']\n",
      "\n",
      "Unique values of: 'Education':\n",
      "['Master' 'Bachelor' 'High School or Below' 'College' 'Bachelors' 'Doctor'\n",
      " nan]\n",
      "\n",
      "Unique values of: 'Policy Type':\n",
      "['Personal Auto' 'Corporate Auto' 'Special Auto' nan]\n",
      "\n",
      "Unique values of: 'Vehicle Class':\n",
      "['Four-Door Car' 'Two-Door Car' 'SUV' 'Luxury SUV' 'Sports Car'\n",
      " 'Luxury Car' nan]\n"
     ]
    }
   ],
   "source": [
    "print(df.info(), \"\\n\")\n",
    "\n",
    "# Columns that appear to be categorical: \n",
    "# --- Categorical Values ---\n",
    "# ST\n",
    "# GENDER\n",
    "# Education\n",
    "# Policy Type\n",
    "# Vehicle Class\n",
    "\n",
    "\n",
    "# Insights about unique values of each categorical column and the range of values for numerical columns..\n",
    "\n",
    "print(df.describe())\n",
    "df.nunique()\n",
    "\n",
    "for col in ['ST', 'GENDER', 'Education', 'Policy Type', 'Vehicle Class']:\n",
    "    print(f\"\\nUnique values of: '{col}':\")\n",
    "    print(df[col].unique())\n",
    "\n",
    "# --- ST (State or Region) ---\n",
    "# - Issue: Mix of full names and abbreviations ('Cali', 'AZ', 'WA')\n",
    "# - Fix: Standardize to full names (e.g., 'AZ' → 'Arizona')\n",
    "# - This may indicate that the data comes from a company with regional operations — useful for segmenting campaigns or understanding local patterns.\n",
    "\n",
    "# --- GENDER ---\n",
    "# - Issue: Inconsistencies and typos ('F', 'M', 'Femal', 'female')\n",
    "# - Fix: Normalize to 'Male' and 'Female'\n",
    "# - Inconsistencies could affect segmentation. After cleaning, we can explore behavioral differences between 'Male' and 'Female'\n",
    "\n",
    "# --- Education ---\n",
    "# - Issue: 'Bachelor' vs 'Bachelors' — semantic duplication\n",
    "# - Fix: Standardize to 'Bachelor'; consider ranking if used as an ordinal variable\n",
    "# - Useful as an ordinal variable. Customers with 'PhD' or 'Master' degrees may show different spending or complaint patterns\n",
    "\n",
    "# --- Policy Type ---\n",
    "# - Status: Well-defined values ('Personal Auto', 'Corporate Auto', 'Special Auto')\n",
    "# - Fix: Only handle NaN values if needed\n",
    "# - Great for customer segmentation — useful in risk analysis or retention strategies.\n",
    "\n",
    "# --- Vehicle Class ---\n",
    "# - Status: Clearly defined categories; optional grouping ('Luxury' vs 'Standard')\n",
    "# - Fix: Create a grouped version if you want to simplify analysis\n",
    "# - May reflect economic status or risk profile. Luxury vehicle owners might have higher premiums or fewer complaints.\n",
    "\n",
    "# --- Customer Lifetime Value ---\n",
    "# The range is extremely wide — over €5.6 million. This suggests there are customers with exceptionally high CLVs, which could be:\n",
    "# - Corporate clients with multiple policies\n",
    "# - Data entry or calculation errors\n",
    "# - Outliers that distort the average\n",
    "\n",
    "# --- Income ---\n",
    "# Some customers have zero income, possibly students, unemployed individuals, or missing data.\n",
    "# The maximum is high but plausible. The range shows significant economic diversity among customers.\n",
    "\n",
    "# --- Monthly Premium Auto ---\n",
    "# The minimum seems reasonable for auto insurance.\n",
    "# But the maximum — over €35,000 per month — is highly suspicious. It could indicate:\n",
    "# - A data entry error (e.g., annual premium recorded as monthly)\n",
    "# - A client with multiple vehicles or special coverage\n",
    "# - An outlier worth investigating\n",
    "\n",
    "# --- Total Claim Amount ---\n",
    "# Claims range from symbolic amounts to substantial payouts.\n",
    "# The maximum is high but realistic, possibly reflecting a major accident or comprehensive coverage.\n"
   ]
  },
  {
   "cell_type": "code",
   "execution_count": 157,
   "id": "2f186e69-6b55-48a0-9137-803192ece75b",
   "metadata": {},
   "outputs": [
    {
     "data": {
      "text/html": [
       "<div>\n",
       "<style scoped>\n",
       "    .dataframe tbody tr th:only-of-type {\n",
       "        vertical-align: middle;\n",
       "    }\n",
       "\n",
       "    .dataframe tbody tr th {\n",
       "        vertical-align: top;\n",
       "    }\n",
       "\n",
       "    .dataframe thead th {\n",
       "        text-align: right;\n",
       "    }\n",
       "</style>\n",
       "<table border=\"1\" class=\"dataframe\">\n",
       "  <thead>\n",
       "    <tr style=\"text-align: right;\">\n",
       "      <th></th>\n",
       "      <th>Customer Lifetime Value</th>\n",
       "      <th>Income</th>\n",
       "      <th>Monthly Premium Auto</th>\n",
       "      <th>Number of Open Complaints</th>\n",
       "      <th>Total Claim Amount</th>\n",
       "    </tr>\n",
       "  </thead>\n",
       "  <tbody>\n",
       "    <tr>\n",
       "      <th>count</th>\n",
       "      <td>1.068000e+03</td>\n",
       "      <td>1071.000000</td>\n",
       "      <td>1071.000000</td>\n",
       "      <td>1071.000000</td>\n",
       "      <td>1071.000000</td>\n",
       "    </tr>\n",
       "    <tr>\n",
       "      <th>mean</th>\n",
       "      <td>7.936903e+05</td>\n",
       "      <td>39295.701214</td>\n",
       "      <td>193.234360</td>\n",
       "      <td>0.394024</td>\n",
       "      <td>404.986909</td>\n",
       "    </tr>\n",
       "    <tr>\n",
       "      <th>std</th>\n",
       "      <td>6.434784e+05</td>\n",
       "      <td>30469.427060</td>\n",
       "      <td>1601.190369</td>\n",
       "      <td>0.883769</td>\n",
       "      <td>293.027260</td>\n",
       "    </tr>\n",
       "    <tr>\n",
       "      <th>min</th>\n",
       "      <td>2.004351e+05</td>\n",
       "      <td>0.000000</td>\n",
       "      <td>61.000000</td>\n",
       "      <td>0.000000</td>\n",
       "      <td>0.382107</td>\n",
       "    </tr>\n",
       "    <tr>\n",
       "      <th>25%</th>\n",
       "      <td>4.034080e+05</td>\n",
       "      <td>14072.000000</td>\n",
       "      <td>68.000000</td>\n",
       "      <td>0.000000</td>\n",
       "      <td>202.157702</td>\n",
       "    </tr>\n",
       "    <tr>\n",
       "      <th>50%</th>\n",
       "      <td>5.881742e+05</td>\n",
       "      <td>36234.000000</td>\n",
       "      <td>83.000000</td>\n",
       "      <td>0.000000</td>\n",
       "      <td>354.729129</td>\n",
       "    </tr>\n",
       "    <tr>\n",
       "      <th>75%</th>\n",
       "      <td>8.962872e+05</td>\n",
       "      <td>64631.000000</td>\n",
       "      <td>109.500000</td>\n",
       "      <td>0.000000</td>\n",
       "      <td>532.800000</td>\n",
       "    </tr>\n",
       "    <tr>\n",
       "      <th>max</th>\n",
       "      <td>5.816655e+06</td>\n",
       "      <td>99960.000000</td>\n",
       "      <td>35354.000000</td>\n",
       "      <td>5.000000</td>\n",
       "      <td>2893.239678</td>\n",
       "    </tr>\n",
       "  </tbody>\n",
       "</table>\n",
       "</div>"
      ],
      "text/plain": [
       "       Customer Lifetime Value        Income  Monthly Premium Auto  \\\n",
       "count             1.068000e+03   1071.000000           1071.000000   \n",
       "mean              7.936903e+05  39295.701214            193.234360   \n",
       "std               6.434784e+05  30469.427060           1601.190369   \n",
       "min               2.004351e+05      0.000000             61.000000   \n",
       "25%               4.034080e+05  14072.000000             68.000000   \n",
       "50%               5.881742e+05  36234.000000             83.000000   \n",
       "75%               8.962872e+05  64631.000000            109.500000   \n",
       "max               5.816655e+06  99960.000000          35354.000000   \n",
       "\n",
       "       Number of Open Complaints  Total Claim Amount  \n",
       "count                1071.000000         1071.000000  \n",
       "mean                    0.394024          404.986909  \n",
       "std                     0.883769          293.027260  \n",
       "min                     0.000000            0.382107  \n",
       "25%                     0.000000          202.157702  \n",
       "50%                     0.000000          354.729129  \n",
       "75%                     0.000000          532.800000  \n",
       "max                     5.000000         2893.239678  "
      ]
     },
     "execution_count": 157,
     "metadata": {},
     "output_type": "execute_result"
    }
   ],
   "source": [
    "# Compute summary statistics such as mean, median, mode, standard deviation, and quartiles\n",
    "# to understand the central tendency and distribution of the data for numerical columns.\n",
    "# You should also provide your conclusions based on these summary statistics.\n",
    "df.describe()\n",
    "\n",
    "# --- CONCLUSIONS ---\n",
    "# The statistical data reveals a highly diverse customer base, with significant variation across financial and behavioral indicators.\n",
    "# The average Customer Lifetime Value is high, around 793,690, but the standard deviation is also substantial (643,478), indicating wide dispersion—some customers contribute far above the average, while others fall well below.\n",
    "# The average income is approximately 39,296, ranging from zero to nearly 100,000, suggesting the presence of both undeclared income and financially robust profiles.\n",
    "# The monthly auto insurance premium averages 193, but the standard deviation is extremely high (1,601), with a maximum of 35,354. This points to the existence of outliers or possible data entry errors. The median of 83 and lower quartiles show that most customers pay significantly less, reinforcing the idea that extreme values do not reflect the general pattern.\n",
    "# The number of open complaints, most customers have none, as shown by the median and lower quartiles all at zero. However, the maximum of five complaints indicates isolated cases of significant dissatisfaction.\n",
    "# The total claim amount averages around 405, with a relatively concentrated distribution, although the maximum exceeds 2,800, suggesting high-impact claims in specific cases.\n"
   ]
  },
  {
   "cell_type": "code",
   "execution_count": 158,
   "id": "818d8875-f1a0-47c8-b0aa-432f429572f1",
   "metadata": {},
   "outputs": [
    {
     "name": "stdout",
     "output_type": "stream",
     "text": [
      "       Customer      ST GENDER Education    Policy Type  Vehicle Class\n",
      "count      1071    1071    954      1071           1071           1071\n",
      "unique     1071       8      5         6              3              6\n",
      "top     MY31220  Oregon      F  Bachelor  Personal Auto  Four-Door Car\n",
      "freq          1     320    457       324            780            576\n"
     ]
    }
   ],
   "source": [
    "# Summary statistics for categorical columns and conclusions based on these statistics.\n",
    "\n",
    "categorical_summary = df.describe(include='object')\n",
    "print(categorical_summary)\n",
    "\n",
    "# The Customer column shows 1071 unique values, indicating that each row represents a distinct client.\n",
    "# The ST column contains five different states, with Arizona (AZ) being the most frequent, appearing 293 times. This suggests a significant concentration of clients in that region.\n",
    "# Regarding GENDER, there are only two categories, with a predominance of female clients (F), totaling 495 entries.\n",
    "# The Education column includes five distinct levels of education, with \"College\" being the most common, representing 383 clients. This may indicate a customer base with intermediate academic qualifications.\n",
    "# The Policy Type column reveals three types of policies, with a strong dominance of \"Personal Auto,\" accounting for 786 cases. This suggests that most clients are interested in personal auto insurance.\n",
    "# The Vehicle Class column contains six categories, with \"Four-Door Car\" being the most frequent, appearing 558 times, indicating a clear preference for this type of vehicle.\n",
    "# In summary, the data reflects a customer base that is predominantly female, educated at the college level, concentrated in Arizona, primarily purchasing personal auto insurance, and mostly owning four-door cars. "
   ]
  },
  {
   "cell_type": "markdown",
   "id": "4a703890-63db-4944-b7ab-95a4f8185120",
   "metadata": {},
   "source": [
    "## Challenge 2: analyzing the data"
   ]
  },
  {
   "cell_type": "markdown",
   "id": "0776a403-c56a-452f-ac33-5fd4fdb06fc7",
   "metadata": {},
   "source": [
    "### Exercise 1"
   ]
  },
  {
   "cell_type": "markdown",
   "id": "eedbc484-da4d-4f9c-9343-e1d44311a87e",
   "metadata": {},
   "source": [
    "The marketing team wants to know the top 5 less common customer locations. Create a pandas Series object that contains the customer locations and their frequencies, and then retrieve the top 5 less common locations in ascending order."
   ]
  },
  {
   "cell_type": "code",
   "execution_count": 159,
   "id": "2dca5073-4520-4f42-9390-4b92733284ed",
   "metadata": {},
   "outputs": [
    {
     "data": {
      "text/plain": [
       "ST\n",
       "Oregon        320\n",
       "California    211\n",
       "Arizona       186\n",
       "Cali          120\n",
       "Nevada         98\n",
       "Washington     81\n",
       "WA             30\n",
       "AZ             25\n",
       "Name: count, dtype: int64"
      ]
     },
     "execution_count": 159,
     "metadata": {},
     "output_type": "execute_result"
    }
   ],
   "source": [
    "df_series = pd.read_csv(url, usecols=[\"ST\"]).squeeze(\"columns\")\n",
    "df_series.value_counts()"
   ]
  },
  {
   "cell_type": "code",
   "execution_count": 160,
   "id": "675dd122-b4ab-49ae-b10d-4645292a3321",
   "metadata": {},
   "outputs": [
    {
     "data": {
      "text/plain": [
       "ST\n",
       "California    331\n",
       "Oregon        320\n",
       "Arizona       211\n",
       "Washington    111\n",
       "Nevada         98\n",
       "Name: count, dtype: int64"
      ]
     },
     "execution_count": 160,
     "metadata": {},
     "output_type": "execute_result"
    }
   ],
   "source": [
    "df['ST'] = df['ST'].replace({\n",
    "    'Cali': 'California',\n",
    "    'AZ': 'Arizona',\n",
    "    'WA': 'Washington'\n",
    "})\n",
    "df['ST'].value_counts()"
   ]
  },
  {
   "cell_type": "code",
   "execution_count": 161,
   "id": "0ea4587f-eecb-46ab-91f8-62490f4b878a",
   "metadata": {},
   "outputs": [
    {
     "data": {
      "text/plain": [
       "ST\n",
       "Nevada         98\n",
       "Washington    111\n",
       "Arizona       211\n",
       "Oregon        320\n",
       "California    331\n",
       "Name: count, dtype: int64"
      ]
     },
     "execution_count": 161,
     "metadata": {},
     "output_type": "execute_result"
    }
   ],
   "source": [
    "df['ST'].value_counts(ascending=True).head(5)"
   ]
  },
  {
   "cell_type": "markdown",
   "id": "0ce80f43-4afa-43c7-a78a-c917444da4e0",
   "metadata": {},
   "source": [
    "### Exercise 2\n",
    "\n",
    "The sales team wants to know the total number of policies sold for each type of policy. Create a pandas Series object that contains the policy types and their total number of policies sold, and then retrieve the policy type with the highest number of policies sold."
   ]
  },
  {
   "cell_type": "markdown",
   "id": "a9f13997-1555-4f98-aca6-970fda1d2c3f",
   "metadata": {},
   "source": [
    "*Hint:*\n",
    "- *Using value_counts() method simplifies this analysis.*\n",
    "- *Futhermore, there is a method that returns the index of the maximum value in a column or row.*\n"
   ]
  },
  {
   "cell_type": "code",
   "execution_count": 167,
   "id": "bcfad6c1-9af2-4b0b-9aa9-0dc5c17473c0",
   "metadata": {},
   "outputs": [],
   "source": [
    "df_series_pt = pd.read_csv(url, usecols=[\"Policy Type\"]).squeeze(\"columns\")\n",
    "policy_counts = df_series_pt.value_counts()\n"
   ]
  },
  {
   "cell_type": "code",
   "execution_count": 168,
   "id": "7014f846-d4d8-4662-a879-2b562a3eac78",
   "metadata": {},
   "outputs": [],
   "source": [
    "top_policy_type = df_series_pt.value_counts().idxmax()\n",
    "top_policy_count = df_series_pt.value_counts().max()"
   ]
  },
  {
   "cell_type": "code",
   "execution_count": 169,
   "id": "09d3f774-b10e-43e1-9566-c519c2ed3c2c",
   "metadata": {},
   "outputs": [
    {
     "name": "stdout",
     "output_type": "stream",
     "text": [
      "Policy Type\n",
      "Personal Auto     780\n",
      "Corporate Auto    234\n",
      "Special Auto       57\n",
      "Name: count, dtype: int64\n",
      "Top policy type: Personal Auto with 780 policies sold.\n"
     ]
    }
   ],
   "source": [
    "print(policy_counts)\n",
    "print(f\"Top policy type: {top_policy_type} with {top_policy_count} policies sold.\")\n"
   ]
  },
  {
   "cell_type": "markdown",
   "id": "0b863fd3-bf91-4d5d-86eb-be29ed9f5b70",
   "metadata": {},
   "source": [
    "### Exercise 3\n",
    "\n",
    "The sales team wants to know if customers with Personal Auto have a lower income than those with Corporate Auto. How does the average income compare between the two policy types?"
   ]
  },
  {
   "cell_type": "markdown",
   "id": "b1386d75-2810-4aa1-93e0-9485aa12d552",
   "metadata": {},
   "source": [
    "- Use *loc* to create two dataframes: one containing only Personal Auto policies and one containing only Corporate Auto policies.\n",
    "- Calculate the average income for each policy.\n",
    "- Print the results."
   ]
  },
  {
   "cell_type": "code",
   "execution_count": 180,
   "id": "0c0563cf-6f8b-463d-a321-651a972f82e5",
   "metadata": {},
   "outputs": [],
   "source": [
    "df_personal = df.loc[df[\"Policy Type\"] == \"Personal Auto\"]"
   ]
  },
  {
   "cell_type": "code",
   "execution_count": 181,
   "id": "bdd35b09-7f3e-438d-99ad-eb256cc1ad5b",
   "metadata": {},
   "outputs": [],
   "source": [
    "df_corporate = df.loc[df[\"Policy Type\"] == \"Corporate Auto\"]"
   ]
  },
  {
   "cell_type": "code",
   "execution_count": 182,
   "id": "8c8d5e7a-19dd-4eed-9ca6-4320373b999f",
   "metadata": {},
   "outputs": [],
   "source": [
    "average_income_personal = df_personal['Income'].mean()"
   ]
  },
  {
   "cell_type": "code",
   "execution_count": 183,
   "id": "3b09f2f5-51db-44e1-b275-d3d2d7b5eec1",
   "metadata": {},
   "outputs": [],
   "source": [
    "average_income_corporate = df_corporate['Income'].mean()"
   ]
  },
  {
   "cell_type": "code",
   "execution_count": 184,
   "id": "ee84c3e0-26ec-45ac-a02b-97b611b9a4f3",
   "metadata": {},
   "outputs": [
    {
     "name": "stdout",
     "output_type": "stream",
     "text": [
      "Average income for Personal Auto policies: 38,180.70\n",
      "Average income for Corporate Auto policies: 41,390.31\n"
     ]
    }
   ],
   "source": [
    "print(f\"Average income for Personal Auto policies: {average_income_personal:,.2f}\")\n",
    "print(f\"Average income for Corporate Auto policies: {average_income_corporate:,.2f}\")"
   ]
  },
  {
   "cell_type": "markdown",
   "id": "80b16c27-f4a5-4727-a229-1f88671cf4e2",
   "metadata": {},
   "source": [
    "### Bonus: Exercise 4\n"
   ]
  },
  {
   "cell_type": "markdown",
   "id": "ac584986-299b-475f-ac2e-928c16c3f512",
   "metadata": {},
   "source": [
    "Your goal is to identify customers with a high policy claim amount.\n",
    "\n",
    "Instructions:\n",
    "\n",
    "- Review again the statistics for total claim amount to gain an understanding of the data.\n",
    "- To identify potential areas for improving customer retention and profitability, we want to focus on customers with a high policy claim amount. Consider customers with a high policy claim amount to be those in the top 25% of the total claim amount. Create a pandas DataFrame object that contains information about customers with a policy claim amount greater than the 75th percentile.\n",
    "- Use DataFrame methods to calculate summary statistics about the high policy claim amount data. "
   ]
  },
  {
   "cell_type": "markdown",
   "id": "4e3af5f1-6023-4b05-9c01-d05392daa650",
   "metadata": {},
   "source": [
    "*Note: When analyzing data, we often want to focus on certain groups of values to gain insights. Percentiles are a useful tool to help us define these groups. A percentile is a measure that tells us what percentage of values in a dataset are below a certain value. For example, the 75th percentile represents the value below which 75% of the data falls. Similarly, the 25th percentile represents the value below which 25% of the data falls. When we talk about the top 25%, we are referring to the values that fall above the 75th percentile, which represent the top quarter of the data. On the other hand, when we talk about the bottom 25%, we are referring to the values that fall below the 25th percentile, which represent the bottom quarter of the data. By focusing on these groups, we can identify patterns and trends that may be useful for making decisions and taking action.*\n",
    "\n",
    "*Hint: look for a method that gives you the percentile or quantile 0.75 and 0.25 for a Pandas Series.*"
   ]
  },
  {
   "cell_type": "markdown",
   "id": "2d234634-50bd-41e0-88f7-d5ba684455d1",
   "metadata": {},
   "source": [
    "*Hint 2: check `Boolean selection according to the values of a single column` in https://towardsdatascience.com/filtering-data-frames-in-pandas-b570b1f834b9*"
   ]
  },
  {
   "cell_type": "code",
   "execution_count": 189,
   "id": "b731bca6-a760-4860-a27b-a33efa712ce0",
   "metadata": {},
   "outputs": [
    {
     "data": {
      "text/plain": [
       "count    1071.000000\n",
       "mean      404.986909\n",
       "std       293.027260\n",
       "min         0.382107\n",
       "25%       202.157702\n",
       "50%       354.729129\n",
       "75%       532.800000\n",
       "max      2893.239678\n",
       "Name: Total Claim Amount, dtype: float64"
      ]
     },
     "execution_count": 189,
     "metadata": {},
     "output_type": "execute_result"
    }
   ],
   "source": [
    "df[\"Total Claim Amount\"].describe()"
   ]
  },
  {
   "cell_type": "code",
   "execution_count": 197,
   "id": "859b2fe7-1c46-4940-bf96-f6d0eb836711",
   "metadata": {},
   "outputs": [
    {
     "name": "stdout",
     "output_type": "stream",
     "text": [
      "<class 'pandas.core.frame.DataFrame'>\n",
      "Index: 273 entries, 1 to 1070\n",
      "Data columns (total 11 columns):\n",
      " #   Column                     Non-Null Count  Dtype  \n",
      "---  ------                     --------------  -----  \n",
      " 0   Customer                   273 non-null    object \n",
      " 1   ST                         273 non-null    object \n",
      " 2   GENDER                     245 non-null    object \n",
      " 3   Education                  273 non-null    object \n",
      " 4   Customer Lifetime Value    273 non-null    float64\n",
      " 5   Income                     273 non-null    float64\n",
      " 6   Monthly Premium Auto       273 non-null    float64\n",
      " 7   Number of Open Complaints  273 non-null    float64\n",
      " 8   Policy Type                273 non-null    object \n",
      " 9   Vehicle Class              273 non-null    object \n",
      " 10  Total Claim Amount         273 non-null    float64\n",
      "dtypes: float64(5), object(6)\n",
      "memory usage: 25.6+ KB\n"
     ]
    }
   ],
   "source": [
    "threshold_75 = 532.8\n",
    "df_high_claimers = df.loc[df['Total Claim Amount'] >= threshold_75]\n",
    "df_high_claimers.info()"
   ]
  },
  {
   "cell_type": "code",
   "execution_count": 200,
   "id": "4e47e090-08cb-4f69-b5c3-ee8d1f6e8ecf",
   "metadata": {},
   "outputs": [
    {
     "data": {
      "text/html": [
       "<div>\n",
       "<style scoped>\n",
       "    .dataframe tbody tr th:only-of-type {\n",
       "        vertical-align: middle;\n",
       "    }\n",
       "\n",
       "    .dataframe tbody tr th {\n",
       "        vertical-align: top;\n",
       "    }\n",
       "\n",
       "    .dataframe thead th {\n",
       "        text-align: right;\n",
       "    }\n",
       "</style>\n",
       "<table border=\"1\" class=\"dataframe\">\n",
       "  <thead>\n",
       "    <tr style=\"text-align: right;\">\n",
       "      <th></th>\n",
       "      <th>Customer Lifetime Value</th>\n",
       "      <th>Income</th>\n",
       "      <th>Monthly Premium Auto</th>\n",
       "      <th>Number of Open Complaints</th>\n",
       "      <th>Total Claim Amount</th>\n",
       "    </tr>\n",
       "  </thead>\n",
       "  <tbody>\n",
       "    <tr>\n",
       "      <th>count</th>\n",
       "      <td>2.730000e+02</td>\n",
       "      <td>273.000000</td>\n",
       "      <td>273.000000</td>\n",
       "      <td>273.000000</td>\n",
       "      <td>273.000000</td>\n",
       "    </tr>\n",
       "    <tr>\n",
       "      <th>mean</th>\n",
       "      <td>9.183794e+05</td>\n",
       "      <td>24106.545788</td>\n",
       "      <td>163.000000</td>\n",
       "      <td>0.424908</td>\n",
       "      <td>774.005353</td>\n",
       "    </tr>\n",
       "    <tr>\n",
       "      <th>std</th>\n",
       "      <td>6.582582e+05</td>\n",
       "      <td>27542.717560</td>\n",
       "      <td>613.645376</td>\n",
       "      <td>0.960068</td>\n",
       "      <td>291.304731</td>\n",
       "    </tr>\n",
       "    <tr>\n",
       "      <th>min</th>\n",
       "      <td>2.287597e+05</td>\n",
       "      <td>0.000000</td>\n",
       "      <td>63.000000</td>\n",
       "      <td>0.000000</td>\n",
       "      <td>532.800000</td>\n",
       "    </tr>\n",
       "    <tr>\n",
       "      <th>25%</th>\n",
       "      <td>4.747735e+05</td>\n",
       "      <td>0.000000</td>\n",
       "      <td>99.000000</td>\n",
       "      <td>0.000000</td>\n",
       "      <td>595.200000</td>\n",
       "    </tr>\n",
       "    <tr>\n",
       "      <th>50%</th>\n",
       "      <td>7.859415e+05</td>\n",
       "      <td>18846.000000</td>\n",
       "      <td>113.000000</td>\n",
       "      <td>0.000000</td>\n",
       "      <td>673.342650</td>\n",
       "    </tr>\n",
       "    <tr>\n",
       "      <th>75%</th>\n",
       "      <td>1.065688e+06</td>\n",
       "      <td>44897.000000</td>\n",
       "      <td>133.000000</td>\n",
       "      <td>0.000000</td>\n",
       "      <td>844.481918</td>\n",
       "    </tr>\n",
       "    <tr>\n",
       "      <th>max</th>\n",
       "      <td>4.022401e+06</td>\n",
       "      <td>99316.000000</td>\n",
       "      <td>10202.000000</td>\n",
       "      <td>5.000000</td>\n",
       "      <td>2893.239678</td>\n",
       "    </tr>\n",
       "  </tbody>\n",
       "</table>\n",
       "</div>"
      ],
      "text/plain": [
       "       Customer Lifetime Value        Income  Monthly Premium Auto  \\\n",
       "count             2.730000e+02    273.000000            273.000000   \n",
       "mean              9.183794e+05  24106.545788            163.000000   \n",
       "std               6.582582e+05  27542.717560            613.645376   \n",
       "min               2.287597e+05      0.000000             63.000000   \n",
       "25%               4.747735e+05      0.000000             99.000000   \n",
       "50%               7.859415e+05  18846.000000            113.000000   \n",
       "75%               1.065688e+06  44897.000000            133.000000   \n",
       "max               4.022401e+06  99316.000000          10202.000000   \n",
       "\n",
       "       Number of Open Complaints  Total Claim Amount  \n",
       "count                 273.000000          273.000000  \n",
       "mean                    0.424908          774.005353  \n",
       "std                     0.960068          291.304731  \n",
       "min                     0.000000          532.800000  \n",
       "25%                     0.000000          595.200000  \n",
       "50%                     0.000000          673.342650  \n",
       "75%                     0.000000          844.481918  \n",
       "max                     5.000000         2893.239678  "
      ]
     },
     "execution_count": 200,
     "metadata": {},
     "output_type": "execute_result"
    }
   ],
   "source": [
    "df_high_claimers.describe()"
   ]
  },
  {
   "cell_type": "code",
   "execution_count": null,
   "id": "e835ae14-d957-4371-ab25-6e21f998a111",
   "metadata": {},
   "outputs": [],
   "source": []
  }
 ],
 "metadata": {
  "kernelspec": {
   "display_name": "Python [conda env:base] *",
   "language": "python",
   "name": "conda-base-py"
  },
  "language_info": {
   "codemirror_mode": {
    "name": "ipython",
    "version": 3
   },
   "file_extension": ".py",
   "mimetype": "text/x-python",
   "name": "python",
   "nbconvert_exporter": "python",
   "pygments_lexer": "ipython3",
   "version": "3.13.5"
  }
 },
 "nbformat": 4,
 "nbformat_minor": 5
}
